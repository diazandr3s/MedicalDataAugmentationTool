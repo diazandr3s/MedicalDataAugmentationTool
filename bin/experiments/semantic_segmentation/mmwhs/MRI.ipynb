{
 "cells": [
  {
   "cell_type": "code",
   "execution_count": null,
   "metadata": {},
   "outputs": [],
   "source": [
    "import os\n",
    "import numpy as np\n",
    "import itk \n",
    "import pydicom\n",
    "import matplotlib.pyplot as plt"
   ]
  },
  {
   "cell_type": "code",
   "execution_count": null,
   "metadata": {},
   "outputs": [],
   "source": [
    "base_dir = 'SPASM_Test_Segmentations_MRI'\n",
    "list_patients = os.listdir(base_dir)\n",
    "print(list_patients)"
   ]
  },
  {
   "cell_type": "code",
   "execution_count": null,
   "metadata": {},
   "outputs": [],
   "source": [
    "for p in list_patients:\n",
    "    n=[]\n",
    "    all_imgs = os.listdir(base_dir + '/' + p + '/image')\n",
    "    print(p)\n",
    "    print(all_imgs)\n",
    "    \n",
    "    for im in all_imgs:\n",
    "        image = pydicom.dcmread(base_dir + '/' + p + '/image/' + im + '/LAX/4CH/0001')\n",
    "        n.append(image.pixel_array)\n",
    "    \n",
    "    n = np.array(n, dtype=np.uint16)    \n",
    "    print(n.shape) \n",
    "       "
   ]
  },
  {
   "cell_type": "code",
   "execution_count": null,
   "metadata": {},
   "outputs": [],
   "source": [
    "for i in range(0, 30):\n",
    "    plt.imshow(n[i,:,:])\n",
    "    plt.show()"
   ]
  },
  {
   "cell_type": "code",
   "execution_count": null,
   "metadata": {},
   "outputs": [],
   "source": []
  }
 ],
 "metadata": {
  "kernelspec": {
   "display_name": "Python (envGUT)",
   "language": "python",
   "name": "envgut"
  },
  "language_info": {
   "codemirror_mode": {
    "name": "ipython",
    "version": 3
   },
   "file_extension": ".py",
   "mimetype": "text/x-python",
   "name": "python",
   "nbconvert_exporter": "python",
   "pygments_lexer": "ipython3",
   "version": "3.6.1"
  }
 },
 "nbformat": 4,
 "nbformat_minor": 2
}
